{
 "cells": [
  {
   "cell_type": "markdown",
   "metadata": {},
   "source": [
    "2.1.11 Напишите программу, которая считывает со стандартного ввода целые числа, по одному числу в строке, и после первого введенного нуля выводит сумму полученных на вход чисел."
   ]
  },
  {
   "cell_type": "code",
   "execution_count": 3,
   "metadata": {},
   "outputs": [
    {
     "name": "stdout",
     "output_type": "stream",
     "text": [
      "0\n",
      "0\n"
     ]
    }
   ],
   "source": [
    "sum = 0\n",
    "i = int(input())\n",
    "while i!=0:\n",
    "    sum += i\n",
    "    i = int(input())\n",
    "print(sum)"
   ]
  },
  {
   "cell_type": "markdown",
   "metadata": {},
   "source": [
    "2.1.12 Программа должна считывать размеры команд (два положительных целых числа aa и bb, каждое число вводится на отдельной строке) и выводить наименьшее число d, которое делится на оба этих числа без остатка."
   ]
  },
  {
   "cell_type": "code",
   "execution_count": 4,
   "metadata": {},
   "outputs": [
    {
     "name": "stdout",
     "output_type": "stream",
     "text": [
      "5\n",
      "7\n",
      "35\n"
     ]
    }
   ],
   "source": [
    "a = int(input())\n",
    "b = int(input())\n",
    "if a>b:\n",
    "    d = a\n",
    "else:\n",
    "    d = b\n",
    "while d%a != 0 or d%b != 0:\n",
    "    d += 1\n",
    "print(d)"
   ]
  },
  {
   "cell_type": "markdown",
   "metadata": {},
   "source": [
    "2.2.4 Напишите программу, которая считывает целые числа с консоли по одному числу в строке.\n",
    "\n",
    "Для каждого введённого числа проверить:\n",
    "если число меньше 10, то пропускаем это число;\n",
    "если число больше 100, то прекращаем считывать числа;\n",
    "в остальных случаях вывести это число обратно на консоль в отдельной строке."
   ]
  },
  {
   "cell_type": "code",
   "execution_count": 6,
   "metadata": {},
   "outputs": [
    {
     "name": "stdout",
     "output_type": "stream",
     "text": [
      "12\n",
      "12\n",
      "4\n",
      "2\n",
      "58\n",
      "58\n",
      "101\n"
     ]
    }
   ],
   "source": [
    "while True:\n",
    "    a = int(input())\n",
    "    if a < 10:\n",
    "        continue\n",
    "    elif a > 100:\n",
    "        break\n",
    "    print(a)"
   ]
  },
  {
   "cell_type": "code",
   "execution_count": 17,
   "metadata": {},
   "outputs": [
    {
     "name": "stdout",
     "output_type": "stream",
     "text": [
      "1 2\n",
      "1 2\n"
     ]
    }
   ],
   "source": [
    "a, b = (int(i) for i in input().split())\n",
    "print(a, b)"
   ]
  },
  {
   "cell_type": "markdown",
   "metadata": {},
   "source": [
    "2.3.3 Напишите программу, на вход которой даются четыре числа a, b, c и d, каждое в своей строке. Программа должна вывести фрагмент таблицы умножения для всех чисел отрезка [a;b] на все числа отрезка [c;d]\n",
    "для разделения элементов внутри строки используйте '\\t' — символ табуляции"
   ]
  },
  {
   "cell_type": "code",
   "execution_count": 43,
   "metadata": {},
   "outputs": [
    {
     "name": "stdout",
     "output_type": "stream",
     "text": [
      "1 3 2 4\n",
      "\t2\t3\t4\t\n",
      "\n",
      "1\t2\t3\t4\t\n",
      "\n",
      "2\t4\t6\t8\t\n",
      "\n",
      "3\t6\t9\t12\t\n",
      "\n"
     ]
    }
   ],
   "source": [
    "a,b,c,d = (int(i) for i in input().split())\n",
    "print('', end='\\t')\n",
    "for i in range(c, d+1):\n",
    "    print(i,end='\\t')\n",
    "print('\\n')\n",
    "for i in range(a, b+1):\n",
    "    print(i, end='\\t')\n",
    "    for j in range(c, d+1):\n",
    "        print(i*j, end='\\t')\n",
    "    print('\\n')"
   ]
  },
  {
   "cell_type": "markdown",
   "metadata": {},
   "source": [
    "2.3.7 Напишите программу, которая считывает с клавиатуры два числа a и b, считает и выводит на консоль среднее арифметическое всех чисел из отрезка [a;b], которые делятся на 3."
   ]
  },
  {
   "cell_type": "code",
   "execution_count": 2,
   "metadata": {},
   "outputs": [
    {
     "name": "stdout",
     "output_type": "stream",
     "text": [
      "-5 12\n",
      "4.5\n"
     ]
    }
   ],
   "source": [
    "a, b = (int(i) for i in input().split())\n",
    "sum = 0\n",
    "n = 0\n",
    "for i in range(a, b+1):\n",
    "    if i % 3 == 0:\n",
    "        sum += i\n",
    "        n += 1\n",
    "print(sum/n)"
   ]
  },
  {
   "cell_type": "markdown",
   "metadata": {},
   "source": [
    "2.4.3 Напишите программу, которая вычисляет процентное содержание символов G (гуанин) и C (цитозин) в введенной строке (программа не должна зависеть от регистра вводимых символов)."
   ]
  },
  {
   "cell_type": "code",
   "execution_count": 3,
   "metadata": {},
   "outputs": [
    {
     "name": "stdout",
     "output_type": "stream",
     "text": [
      "acggtgttat\n",
      "40.0\n"
     ]
    }
   ],
   "source": [
    "s = input()\n",
    "count = s.lower().count('c') + s.lower().count('g')\n",
    "len_s = len(s)\n",
    "print(count/len_s*100)"
   ]
  },
  {
   "cell_type": "markdown",
   "metadata": {},
   "source": [
    "2.4.7 Группы одинаковых символов исходной строки заменяются на этот символ и количество его повторений в этой позиции строки."
   ]
  },
  {
   "cell_type": "code",
   "execution_count": 7,
   "metadata": {},
   "outputs": [
    {
     "name": "stdout",
     "output_type": "stream",
     "text": [
      "aaaabbcaa\n",
      "a4b2c1a2\n"
     ]
    }
   ],
   "source": [
    "s = input()\n",
    "s_mod = ''\n",
    "i0 = s[0]\n",
    "count = 0\n",
    "for x,i in enumerate(s):\n",
    "    if i == i0:\n",
    "        count += 1\n",
    "    else:\n",
    "        s_mod += i0 + str(count)\n",
    "        i0 = i\n",
    "        count = 1\n",
    "           \n",
    "    if x == len(s) - 1:\n",
    "        s_mod += i0 + str(count)\n",
    "\n",
    "print(s_mod)"
   ]
  },
  {
   "cell_type": "markdown",
   "metadata": {},
   "source": [
    "2.5.9 Напишите программу, на вход которой подается одна строка с целыми числами. Программа должна вывести сумму этих чисел.\n",
    "\n",
    "Используйте метод split строки. "
   ]
  },
  {
   "cell_type": "code",
   "execution_count": 4,
   "metadata": {},
   "outputs": [
    {
     "name": "stdout",
     "output_type": "stream",
     "text": [
      "4 -1 9 3\n",
      "15\n"
     ]
    }
   ],
   "source": [
    "s = list(map(int, input().split()))\n",
    "print(sum(s))"
   ]
  },
  {
   "cell_type": "markdown",
   "metadata": {},
   "source": [
    "2.5.10 Напишите программу, на вход которой подаётся список чисел одной строкой. Программа должна для каждого элемента этого списка вывести сумму двух его соседей. Для элементов списка, являющихся крайними, одним из соседей считается элемент, находящий на противоположном конце этого списка"
   ]
  },
  {
   "cell_type": "code",
   "execution_count": 18,
   "metadata": {},
   "outputs": [
    {
     "name": "stdout",
     "output_type": "stream",
     "text": [
      "1 2\n",
      "4 2\n"
     ]
    }
   ],
   "source": [
    "a = list(map(int, input().split()))\n",
    "if len(a) > 1:\n",
    "    a.insert(0, a[-1])\n",
    "    a.append(a[1])\n",
    "    b = []\n",
    "    for i in range(1, len(a)-1):\n",
    "        b.append(a[i-1]+a[i+1])\n",
    "else:\n",
    "    b = a\n",
    "print(*b)"
   ]
  },
  {
   "cell_type": "markdown",
   "metadata": {},
   "source": [
    "2.5.11 Напишите программу, которая принимает на вход список чисел в одной строке и выводит на экран в одну строку значения, которые повторяются в нём более одного раза.\n",
    "\n",
    "Для решения задачи может пригодиться метод sort списка.\n",
    "\n",
    "Выводимые числа не должны повторяться, порядок их вывода может быть произвольным."
   ]
  },
  {
   "cell_type": "code",
   "execution_count": 24,
   "metadata": {},
   "outputs": [
    {
     "name": "stdout",
     "output_type": "stream",
     "text": [
      "1 1 1 1 1 2 2 2\n",
      "1 2\n"
     ]
    }
   ],
   "source": [
    "a = list(map(int, input().split()))\n",
    "a.sort()\n",
    "b = []\n",
    "n0 = a[0]\n",
    "for i in range(1, len(a)):\n",
    "    n = a[i]\n",
    "    if n == n0:\n",
    "        b.append(n)\n",
    "    else:\n",
    "        n0 = n\n",
    "b = set(b)\n",
    "print(*b)"
   ]
  },
  {
   "cell_type": "markdown",
   "metadata": {},
   "source": [
    "2.6.7 Напишите программу, которая считывает с консоли числа (по одному в строке) до тех пор, пока сумма введённых чисел не будет равна 0 и сразу после этого выводит сумму квадратов всех считанных чисел."
   ]
  },
  {
   "cell_type": "code",
   "execution_count": 2,
   "metadata": {},
   "outputs": [
    {
     "name": "stdout",
     "output_type": "stream",
     "text": [
      "1\n",
      "-3\n",
      "5\n",
      "-6\n",
      "-10\n",
      "13\n",
      "340\n"
     ]
    }
   ],
   "source": [
    "a = int(input())\n",
    "sum_1 = a\n",
    "sum_2 = a**2\n",
    "while sum_1 != 0:\n",
    "    a = int(input())\n",
    "    sum_1 += a\n",
    "    sum_2 += a**2\n",
    "print(sum_2)"
   ]
  },
  {
   "cell_type": "markdown",
   "metadata": {},
   "source": [
    "2.6.8 Напишите программу, которая выводит часть последовательности 1 2 2 3 3 3 4 4 4 4 5 5 5 5 5 ... (число повторяется столько раз, чему равно). На вход программе передаётся неотрицательное целое число n — столько элементов последовательности должна отобразить программа. На выходе ожидается последовательность чисел, записанных через пробел в одну строку."
   ]
  },
  {
   "cell_type": "code",
   "execution_count": 5,
   "metadata": {},
   "outputs": [
    {
     "name": "stdout",
     "output_type": "stream",
     "text": [
      "7\n",
      "1 2 2 3 3 3 4\n"
     ]
    }
   ],
   "source": [
    "n = int(input())\n",
    "i = 1\n",
    "j = 1\n",
    "numbers = []\n",
    "while i <= n:\n",
    "    numbers.append(j)\n",
    "    if numbers.count(j) == j:\n",
    "        j += 1\n",
    "    i += 1\n",
    "print(*numbers)"
   ]
  },
  {
   "cell_type": "markdown",
   "metadata": {},
   "source": [
    "2.6.9 Напишите программу, которая считывает список чисел lst из первой строки и число xx из второй строки, которая выводит все позиции, на которых встречается число x в переданном списке lst."
   ]
  },
  {
   "cell_type": "code",
   "execution_count": 9,
   "metadata": {},
   "outputs": [
    {
     "name": "stdout",
     "output_type": "stream",
     "text": [
      "5 8 2 7 8 8 2 4\n",
      "8\n",
      "1 4 5\n"
     ]
    }
   ],
   "source": [
    "lst = list(map(int, input().split()))\n",
    "x = int(input())\n",
    "pos = []\n",
    "for i, el in enumerate(lst):\n",
    "    if el == x:\n",
    "        pos.append(i)\n",
    "if len(pos) < 1:\n",
    "    print('Отсутствует')\n",
    "else:\n",
    "    print(*pos)"
   ]
  },
  {
   "cell_type": "markdown",
   "metadata": {},
   "source": [
    "2.6.10"
   ]
  },
  {
   "cell_type": "code",
   "execution_count": 11,
   "metadata": {},
   "outputs": [
    {
     "name": "stdout",
     "output_type": "stream",
     "text": [
      "9 5 3\n",
      "0 7 -1\n",
      "-5 2 9\n",
      "end\n",
      "3 21 22\n",
      "10 6 19\n",
      "20 16 -1\n"
     ]
    }
   ],
   "source": [
    "s = input()\n",
    "matr = []\n",
    "while s != 'end':\n",
    "    strlist = list(map(int, s.split()))\n",
    "    matr.append(strlist)\n",
    "    s = input()\n",
    "n = len(matr)\n",
    "m = len(matr[0])\n",
    "newmatr = [[0]*m for i in range(n)]\n",
    "elem = 0\n",
    "for i in range(n):\n",
    "    for j in range(m):\n",
    "            elem = matr[i][(j+1)%m] + matr[i][j-1] + matr[(i+1)%n][j] + matr[i-1][j]\n",
    "            newmatr[i][j] = elem\n",
    "\n",
    "print('\\n'.join(' '.join(str(val) for val in newmatr[i]) for i in range(n)))"
   ]
  },
  {
   "cell_type": "markdown",
   "metadata": {},
   "source": [
    "2.6.11"
   ]
  },
  {
   "cell_type": "code",
   "execution_count": 13,
   "metadata": {},
   "outputs": [
    {
     "name": "stdout",
     "output_type": "stream",
     "text": [
      "5\n",
      "1 2 3 4 5\n",
      "16 17 18 19 6\n",
      "15 24 25 20 7\n",
      "14 23 22 21 8\n",
      "13 12 11 10 9\n"
     ]
    }
   ],
   "source": [
    "n = int(input())\n",
    "matr = [[0 for i in range(n)] for j in range(n)]\n",
    "i = 0\n",
    "j = 0\n",
    "count = 0\n",
    "for num in range(1, n**2 + 1):\n",
    "    if count % 4 == 0 or count == 0:\n",
    "        matr[i][j] = num\n",
    "        if j+1 == n:\n",
    "            i += 1\n",
    "            count += 1\n",
    "        elif matr[i][j+1] != 0:\n",
    "            i += 1\n",
    "            count += 1\n",
    "        else:\n",
    "            j += 1\n",
    "    elif count % 2 != 0 and ((count-1) % 4 == 0 or (count - 1) == 0):\n",
    "        matr[i][j] = num\n",
    "        if i+1 == n:\n",
    "            j -= 1\n",
    "            count += 1\n",
    "        elif matr[i+1][j] != 0:\n",
    "            j -= 1\n",
    "            count += 1\n",
    "        else:\n",
    "            i += 1\n",
    "    elif count % 2 == 0 and count % 4 != 0:\n",
    "        matr[i][j] = num\n",
    "        if j-1 == n:\n",
    "            i -= 1\n",
    "            count += 1\n",
    "        elif matr[i][j-1] != 0:\n",
    "            i -= 1\n",
    "            count += 1\n",
    "        else:\n",
    "            j -= 1\n",
    "    else:\n",
    "        matr[i][j] = num\n",
    "        if i - 1 == n:\n",
    "            j += 1\n",
    "            count += 1\n",
    "        elif matr[i - 1][j] != 0:\n",
    "            j += 1\n",
    "            count += 1\n",
    "        else:\n",
    "            i -= 1\n",
    "for line in range(n):\n",
    "    print(*matr[line])"
   ]
  },
  {
   "cell_type": "code",
   "execution_count": null,
   "metadata": {},
   "outputs": [],
   "source": []
  }
 ],
 "metadata": {
  "kernelspec": {
   "display_name": "Python 3",
   "language": "python",
   "name": "python3"
  },
  "language_info": {
   "codemirror_mode": {
    "name": "ipython",
    "version": 3
   },
   "file_extension": ".py",
   "mimetype": "text/x-python",
   "name": "python",
   "nbconvert_exporter": "python",
   "pygments_lexer": "ipython3",
   "version": "3.6.7"
  }
 },
 "nbformat": 4,
 "nbformat_minor": 2
}
