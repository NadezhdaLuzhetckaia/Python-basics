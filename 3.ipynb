{
 "cells": [
  {
   "cell_type": "markdown",
   "metadata": {},
   "source": [
    "3.1.8"
   ]
  },
  {
   "cell_type": "code",
   "execution_count": 2,
   "metadata": {},
   "outputs": [
    {
     "data": {
      "text/plain": [
       "-0.5"
      ]
     },
     "execution_count": 2,
     "metadata": {},
     "output_type": "execute_result"
    }
   ],
   "source": [
    "def f(x):\n",
    "    if x > 2:\n",
    "        return (x-2)**2+1\n",
    "    elif x <= -2:\n",
    "        return 1 - (x+2)**2\n",
    "    else:\n",
    "        return -x/2\n",
    "f(1)"
   ]
  },
  {
   "cell_type": "markdown",
   "metadata": {},
   "source": [
    "3.1.9 Напишите функцию modify_list(l), которая принимает на вход список целых чисел, удаляет из него все нечётные значения, а чётные нацело делит на два. Функция не должна ничего возвращать, требуется только изменение переданного списка"
   ]
  },
  {
   "cell_type": "code",
   "execution_count": 14,
   "metadata": {},
   "outputs": [
    {
     "name": "stdout",
     "output_type": "stream",
     "text": [
      "[1, 2, 3]\n"
     ]
    }
   ],
   "source": [
    "def modify_list(l):\n",
    "    n = 0\n",
    "    while n < len(l):\n",
    "        el = l[n]\n",
    "        if el % 2 != 0:\n",
    "            l.remove(el)\n",
    "        else:\n",
    "            l[n] = el//2\n",
    "            n += 1\n",
    "l =  [1, 2, 3, 4, 5, 6]\n",
    "modify_list(l)\n",
    "print(l)\n",
    "\n",
    "# def modify_list(l):\n",
    "#    l[:] = [i//2 for i in l if not i % 2]"
   ]
  },
  {
   "cell_type": "markdown",
   "metadata": {},
   "source": [
    "3.2.5"
   ]
  },
  {
   "cell_type": "code",
   "execution_count": 1,
   "metadata": {},
   "outputs": [],
   "source": [
    "def update_dictionary(d, key, value):\n",
    "    if key in d:\n",
    "        d[key].append(value)\n",
    "    elif 2*key in d:\n",
    "        d[2*key].append(value)\n",
    "    else:\n",
    "        d[2*key] = [value,]"
   ]
  },
  {
   "cell_type": "markdown",
   "metadata": {},
   "source": [
    "3.2.6 Программа должна считывать одну строку со стандартного ввода и выводить для каждого уникального слова в этой строке число его повторений (без учёта регистра) в формате \"слово количество\""
   ]
  },
  {
   "cell_type": "code",
   "execution_count": 7,
   "metadata": {},
   "outputs": [
    {
     "name": "stdout",
     "output_type": "stream",
     "text": [
      "a A a\n",
      "a 3\n"
     ]
    }
   ],
   "source": [
    "s = input().lower().split()\n",
    "words = {}\n",
    "for el in s:\n",
    "    if el in words:\n",
    "        words[el] += 1\n",
    "    else:\n",
    "        words[el] = 1\n",
    "for key in words:\n",
    "    print(key, words[key])\n"
   ]
  },
  {
   "cell_type": "markdown",
   "metadata": {},
   "source": [
    "3.2.7"
   ]
  },
  {
   "cell_type": "code",
   "execution_count": null,
   "metadata": {},
   "outputs": [],
   "source": [
    "n = int(input())\n",
    "d = {}\n",
    "for key in range(n):\n",
    "    key = int(input())\n",
    "    if key not in d:\n",
    "        d[key] = f(key)\n",
    "    print(d[key])"
   ]
  },
  {
   "cell_type": "markdown",
   "metadata": {},
   "source": [
    "3.4.2 Напишите программу, которая считывает из файла строку, соответствующую тексту, сжатому с помощью кодирования повторов, и производит обратную операцию, получая исходный текст.\n",
    "\n",
    "Запишите полученный текст в файл и прикрепите его, как ответ на это задание."
   ]
  },
  {
   "cell_type": "code",
   "execution_count": 37,
   "metadata": {},
   "outputs": [],
   "source": [
    "def decoding(s):\n",
    "    new_s = ''\n",
    "    n = ''\n",
    "    letter = s[0]\n",
    "    for i in range(1, len(s)-1):\n",
    "        el = s[i]\n",
    "        if el.isdigit():\n",
    "            n += el\n",
    "        else:\n",
    "            new_s += letter*int(n)\n",
    "            letter = s[i]\n",
    "            n = ''\n",
    "    new_s += letter*int(n)\n",
    "    return(new_s)\n",
    "\n",
    "with open('inf.txt') as inf:\n",
    "    s = inf.readline()\n",
    "new_s = decoding(s)\n",
    "with open('ouf.txt', 'w') as ouf:\n",
    "    ouf.write(new_s)"
   ]
  },
  {
   "cell_type": "markdown",
   "metadata": {},
   "source": [
    "3.4.3 Напишите программу, которая считывает текст из файла (в файле может быть больше одной строки) и выводит самое частое слово в этом тексте и через пробел то, сколько раз оно встретилось. Если таких слов несколько, вывести лексикографически первое (можно использовать оператор < для строк)."
   ]
  },
  {
   "cell_type": "code",
   "execution_count": 53,
   "metadata": {},
   "outputs": [
    {
     "name": "stdout",
     "output_type": "stream",
     "text": [
      "bcd 4\n"
     ]
    }
   ],
   "source": [
    "words = {}\n",
    "with open('inf.txt') as inf:\n",
    "    for line in inf:\n",
    "        s = line.lower().split()\n",
    "        s.sort()\n",
    "        for el in s:\n",
    "            if el in words:\n",
    "                words[el] += 1\n",
    "            else:\n",
    "                words[el] = 1\n",
    "\n",
    "v=list(words.values())\n",
    "k=list(words.keys())\n",
    "\n",
    "print(k[v.index(max(v))], max(v))"
   ]
  },
  {
   "cell_type": "markdown",
   "metadata": {},
   "source": [
    "3.4.4"
   ]
  },
  {
   "cell_type": "code",
   "execution_count": 14,
   "metadata": {},
   "outputs": [],
   "source": [
    "grades = {}\n",
    "        \n",
    "first_gr = []\n",
    "second_gr = []\n",
    "third_gr = []\n",
    "\n",
    "with open('inf.txt', encoding='utf-8') as inf:\n",
    "    for line in inf:\n",
    "        line = line.split(';')\n",
    "        name = line[0]\n",
    "        grade = list(map(int, line[1:]))\n",
    "        grades[name] = grade\n",
    "        first_gr.append(grade[0])\n",
    "        second_gr.append(grade[1])\n",
    "        third_gr.append(grade[2])\n",
    "\n",
    "        \n",
    "with open('ouf.txt', 'w', encoding='utf-8') as ouf:\n",
    "    for name in grades:\n",
    "        ouf.write(str(sum(grades[name])/len(grades[name])) + '\\n')\n",
    "    ouf.write(str(sum(first_gr)/len(first_gr))+' ')\n",
    "    ouf.write(str(sum(second_gr)/len(second_gr))+' ')\n",
    "    ouf.write(str(sum(third_gr)/len(third_gr)))"
   ]
  },
  {
   "cell_type": "markdown",
   "metadata": {},
   "source": [
    "3.5.2"
   ]
  },
  {
   "cell_type": "code",
   "execution_count": 16,
   "metadata": {},
   "outputs": [
    {
     "name": "stdout",
     "output_type": "stream",
     "text": [
      "10\n",
      "62.83185307179586\n"
     ]
    }
   ],
   "source": [
    "import math\n",
    "r = float(input())\n",
    "print(2*r*math.pi)"
   ]
  },
  {
   "cell_type": "markdown",
   "metadata": {},
   "source": [
    "3.5.3"
   ]
  },
  {
   "cell_type": "code",
   "execution_count": 17,
   "metadata": {},
   "outputs": [
    {
     "name": "stdout",
     "output_type": "stream",
     "text": [
      "-f C:\\Users\\Надежда\\AppData\\Roaming\\jupyter\\runtime\\kernel-b60277dd-f6f2-47a5-9cd8-5d996f4f9df5.json\n"
     ]
    }
   ],
   "source": [
    "import sys\n",
    "print(*sys.argv[1:])"
   ]
  },
  {
   "cell_type": "markdown",
   "metadata": {},
   "source": [
    "3.6.2"
   ]
  },
  {
   "cell_type": "code",
   "execution_count": 8,
   "metadata": {},
   "outputs": [
    {
     "name": "stdout",
     "output_type": "stream",
     "text": [
      "297\n"
     ]
    }
   ],
   "source": [
    "import requests\n",
    "\n",
    "with open('dataset_3378_2.txt') as inf:\n",
    "    link = inf.readline().strip()\n",
    "page = requests.get(link)\n",
    "print(len(page.text.splitlines()))"
   ]
  },
  {
   "cell_type": "markdown",
   "metadata": {},
   "source": [
    "3.6.3"
   ]
  },
  {
   "cell_type": "code",
   "execution_count": 20,
   "metadata": {},
   "outputs": [
    {
     "name": "stdout",
     "output_type": "stream",
     "text": [
      "We are the champions, my friends,\n",
      "And we'll keep on fighting 'til the end.\n",
      "We are the champions.\n",
      "We are the champions.\n",
      "No time for losers\n",
      "'Cause we are the champions of the world.\n"
     ]
    }
   ],
   "source": [
    "import requests\n",
    "\n",
    "directory = 'https://stepic.org/media/attachments/course67/3.6.3/'\n",
    "\n",
    "with open('dataset_3378_3.txt') as inf:\n",
    "    link = inf.readline().strip()\n",
    "    new_link = link\n",
    "\n",
    "while True:\n",
    "    page = requests.get(new_link)\n",
    "    file = page.text\n",
    "    if file[0:2] == \"We\":\n",
    "        break\n",
    "    else:\n",
    "        link = file.strip()\n",
    "        new_link = directory+link\n",
    "print(file)"
   ]
  },
  {
   "cell_type": "code",
   "execution_count": 21,
   "metadata": {},
   "outputs": [],
   "source": [
    "with open('ouf.txt', 'w') as ouf:\n",
    "    ouf.write(file)"
   ]
  },
  {
   "cell_type": "markdown",
   "metadata": {},
   "source": [
    "3.7.1 Вывод программы необходимо оформить следующим образом:\n",
    "Команда:Всего_игр Побед Ничьих Поражений Всего_очков"
   ]
  },
  {
   "cell_type": "code",
   "execution_count": 2,
   "metadata": {},
   "outputs": [
    {
     "name": "stdout",
     "output_type": "stream",
     "text": [
      "3\n",
      "Спартак;9;Зенит;10\n",
      "Локомотив;12;Зенит;3\n",
      "Спартак;8;Локомотив;15\n",
      "{'Спартак': array([2, 0, 0, 2, 0]), 'Зенит': array([2, 1, 0, 1, 3]), 'Локомотив': array([2, 2, 0, 0, 6])}\n"
     ]
    }
   ],
   "source": [
    "import numpy as np\n",
    "\n",
    "teams = {}\n",
    "# team_name : [number_of_games, win, tie, loose, all_score]\n",
    "\n",
    "n = int(input())\n",
    "for i in range(n):\n",
    "    line = input().split(';')\n",
    "    name1 = line[0]\n",
    "    name2 = line[2]\n",
    "    score1 = int(line[1])\n",
    "    score2 = int(line[3])\n",
    "    if name1 not in teams:\n",
    "        teams[name1] = np.array([0,0,0,0,0])\n",
    "    if name2 not in teams:\n",
    "        teams[name2] = np.array([0,0,0,0,0])\n",
    "    if score1 > score2:\n",
    "        teams[name1] += np.array([1,1,0,0,3])\n",
    "        teams[name2] += np.array([1,0,0,1,0])\n",
    "    elif score2 > score1:\n",
    "        teams[name1] += np.array([1,0,0,1,0])\n",
    "        teams[name2] += np.array([1,1,0,0,3])\n",
    "    else:\n",
    "        teams[name1] += np.array([1,0,1,0,1])\n",
    "        teams[name2] += np.array([1,0,1,0,1])\n",
    "print(teams)\n",
    "    "
   ]
  },
  {
   "cell_type": "code",
   "execution_count": 3,
   "metadata": {},
   "outputs": [
    {
     "name": "stdout",
     "output_type": "stream",
     "text": [
      "Спартак: 2 0 0 2 0\n",
      "Зенит: 2 1 0 1 3\n",
      "Локомотив: 2 2 0 0 6\n"
     ]
    }
   ],
   "source": [
    "for q, w in teams.items():\n",
    "    print((q+':'), *w, end='\\n')"
   ]
  },
  {
   "cell_type": "markdown",
   "metadata": {},
   "source": [
    "3.7.2"
   ]
  },
  {
   "cell_type": "code",
   "execution_count": 5,
   "metadata": {},
   "outputs": [
    {
     "name": "stdout",
     "output_type": "stream",
     "text": [
      "abcd\n",
      "*d%#\n",
      "abacabadaba\n",
      "#*%*d*%\n",
      "*d*%*d*#*d*\n",
      "dacabac\n"
     ]
    }
   ],
   "source": [
    "decod = input()\n",
    "cod = input()\n",
    "for_coding = input()\n",
    "for_decoding = input()\n",
    "\n",
    "coding = dict(zip(decod, cod))\n",
    "decoding = dict(zip(cod, decod))\n",
    "an1 = ''\n",
    "an2 = ''\n",
    "for element in for_coding:\n",
    "    an1 += coding[element]\n",
    "print(an1)\n",
    "for element in for_decoding:\n",
    "    an2 += decoding[element]\n",
    "print(an2)"
   ]
  },
  {
   "cell_type": "markdown",
   "metadata": {},
   "source": [
    "3.7.3"
   ]
  },
  {
   "cell_type": "code",
   "execution_count": 8,
   "metadata": {},
   "outputs": [
    {
     "name": "stdout",
     "output_type": "stream",
     "text": [
      "4\n",
      "champions\n",
      "we\n",
      "are\n",
      "Stepik\n",
      "3\n",
      "We are the champignons\n",
      "We Are The Champions\n",
      "Stepic\n",
      "the Stepic champignons The\n"
     ]
    }
   ],
   "source": [
    "wrong = []\n",
    "d = int(input())\n",
    "dictionary = ['0' for i in range(d)]\n",
    "for i in range(d):\n",
    "    dictionary[i] = input().lower()\n",
    "l = int(input())\n",
    "for i in range(l):\n",
    "    line = input().split()\n",
    "    for word in line:\n",
    "        if word.lower() not in dictionary:\n",
    "            wrong.append(word.lower())\n",
    "print(*set(wrong))"
   ]
  },
  {
   "cell_type": "code",
   "execution_count": 7,
   "metadata": {},
   "outputs": [
    {
     "name": "stdout",
     "output_type": "stream",
     "text": [
      "4\n",
      "champions\n",
      "we\n",
      "are\n",
      "Stepik\n",
      "3\n",
      "We are the champignons\n",
      "Stepic\n",
      "We Are The Champions\n",
      "the\n",
      "stepic\n",
      "champignons\n"
     ]
    }
   ],
   "source": [
    "text = set()\n",
    "dictionary = {input().lower() for i in range(int(input()))}\n",
    "for i in range(int(input())):\n",
    "    for j in input().lower().split():\n",
    "        text.add(j)\n",
    "for i in text - dictionary:\n",
    "    print(i)"
   ]
  },
  {
   "cell_type": "markdown",
   "metadata": {},
   "source": [
    "3.7.4"
   ]
  },
  {
   "cell_type": "code",
   "execution_count": 1,
   "metadata": {},
   "outputs": [
    {
     "name": "stdout",
     "output_type": "stream",
     "text": [
      "4\n",
      "север 10\n",
      "запад 20\n",
      "юг 30\n",
      "восток 40\n",
      "20 -20\n"
     ]
    }
   ],
   "source": [
    "start = [0,0]\n",
    "\n",
    "n = int(input())\n",
    "for i in range(n):\n",
    "    step = input().split()\n",
    "    if step[0] == 'север':\n",
    "        start[1] += int(step[1])\n",
    "    elif step[0] == 'юг':\n",
    "        start[1] -= int(step[1])\n",
    "    elif step[0] == 'восток':\n",
    "        start[0] += int(step[1])\n",
    "    elif step[0] == 'запад':\n",
    "        start[0] -= int(step[1])\n",
    "print(*start)"
   ]
  },
  {
   "cell_type": "markdown",
   "metadata": {},
   "source": [
    "3.7.5"
   ]
  },
  {
   "cell_type": "code",
   "execution_count": 19,
   "metadata": {},
   "outputs": [
    {
     "name": "stdout",
     "output_type": "stream",
     "text": [
      "{'1': [128, 123, 130], '2': [133, 127, 127, 127], '3': [132, 136, 140], '4': [137, 140], '5': [], '6': [154, 156, 160], '7': [157, 161, 160], '8': [168, 163, 167, 166], '9': [173, 175], '10': [175, 165, 168, 174], '11': [171, 180]}\n"
     ]
    }
   ],
   "source": [
    "class_n = [str(i) for i in range(1,12)]\n",
    "mean_h = [[] for i in range(1,12)]\n",
    "height = dict(zip(class_n, mean_h))\n",
    "\n",
    "with open('inf.txt', encoding='utf-8') as inf:\n",
    "    for line in inf:\n",
    "        line = line.split()\n",
    "        height[line[0]].append(int(line[2]))\n",
    "print(hight)\n",
    "\n",
    "with open('ouf.txt', 'w', encoding='utf-8') as ouf:\n",
    "    for i in range(1, 12):\n",
    "        if len(height[str(i)]) == 0:\n",
    "            ouf.write(str(i)+' -')\n",
    "        else:\n",
    "            ouf.write(str(i)+' '+str(sum(height[str(i)])/len(height[str(i)])))\n",
    "        ouf.write('\\n')"
   ]
  },
  {
   "cell_type": "code",
   "execution_count": null,
   "metadata": {},
   "outputs": [],
   "source": []
  }
 ],
 "metadata": {
  "kernelspec": {
   "display_name": "Python 3",
   "language": "python",
   "name": "python3"
  },
  "language_info": {
   "codemirror_mode": {
    "name": "ipython",
    "version": 3
   },
   "file_extension": ".py",
   "mimetype": "text/x-python",
   "name": "python",
   "nbconvert_exporter": "python",
   "pygments_lexer": "ipython3",
   "version": "3.6.7"
  }
 },
 "nbformat": 4,
 "nbformat_minor": 2
}
